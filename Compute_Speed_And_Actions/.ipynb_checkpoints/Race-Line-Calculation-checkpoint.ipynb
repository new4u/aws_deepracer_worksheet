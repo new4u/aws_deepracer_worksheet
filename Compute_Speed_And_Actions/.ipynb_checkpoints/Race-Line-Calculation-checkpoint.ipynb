{
 "cells": [
  {
   "attachments": {},
   "cell_type": "markdown",
   "metadata": {},
   "source": [
    "# Racing Line Calculation Worksheet\n",
    "\n",
    "Inspired by the paper [Reinforcement Learning Using Neural Networks, with Applications to Motor Control\n",
    "](https://www.remi-coulom.fr/Publications/Thesis.pdf), which is referenced by a number of machine learning articles, we calculate a race line around a simple race track.\n",
    "\n",
    "#### New notebook\n",
    "\n",
    "This notebook was forked from [this](https://github.com/cdthompson/deepracer-k1999-race-lines/blob/master/Race-Line-Calculation.ipynb) notebook by cdthompson.\n",
    "\n",
    "This repo only contains the new notebook, not the entire directory. So make sure to download the entire directory from cdthompson's repo."
   ]
  },
  {
   "cell_type": "code",
   "execution_count": 1,
   "metadata": {},
   "outputs": [],
   "source": [
    "import glob\n",
    "import numpy as np\n",
    "from shapely.geometry import Point, Polygon\n",
    "from shapely.geometry.polygon import LinearRing, LineString\n",
    "import pandas as pd\n",
    "import matplotlib.pyplot as plt\n",
    "import os.path\n",
    "import sys\n",
    "sys.path.append('../')"
   ]
  },
  {
   "attachments": {},
   "cell_type": "markdown",
   "metadata": {},
   "source": [
    "## Load the track to analyze"
   ]
  },
  {
   "cell_type": "code",
   "execution_count": 2,
   "metadata": {
    "scrolled": true
   },
   "outputs": [
    {
     "data": {
      "text/plain": [
       "['Baja_Turnpike',\n",
       " 'Cumulo_Turnpike',\n",
       " 'DBro_Super_Raceway',\n",
       " 'BreadCentric_Loop',\n",
       " 'Ross_Raceway',\n",
       " 'Ace_Speedway',\n",
       " 'American_Hills_Speedway',\n",
       " 'Expedition_Super_Loop',\n",
       " 'Lars_Loop',\n",
       " 'Kuei_Raceway',\n",
       " 'Cosmic_Loop',\n",
       " 'Roger_Super_Raceway',\n",
       " 'Ross_Super_Speedway',\n",
       " 'Summit_Speedway',\n",
       " 'Hot_Rod_Speedway',\n",
       " 're-Invent_2018',\n",
       " 'Cumulo_Carrera_Training',\n",
       " 'Roger_Raceway',\n",
       " 'AWS_Summit_Raceway',\n",
       " 'Jochem_Highway',\n",
       " 'SOLA_Speedway',\n",
       " 'Toronto_Turnpike_Training',\n",
       " 'Po-Chun_Speedway',\n",
       " 'Cosmic_Circuit',\n",
       " 'Asia_Pacific_Bay_Loop',\n",
       " 'BreadCentric_Speedway',\n",
       " 'Hot_Rod_Super_Speedway',\n",
       " 'Ace_Super_Speedway',\n",
       " 'Kuei_Super_Raceway',\n",
       " 'Playa_Raceway',\n",
       " 'Po-Chun_Super_Speedway',\n",
       " 'Baja_Highway',\n",
       " 'Expedition_Loop',\n",
       " 'Kumo_Torakku_Training',\n",
       " 'Oval_Track',\n",
       " 'European_Seaside_Circuit',\n",
       " 'Rogue_Raceway',\n",
       " 'Roger_Ring',\n",
       " 'Vivalas_Loop',\n",
       " 'London_Loop_Training',\n",
       " 'Bowtie_Track',\n",
       " 'Stratus_Loop',\n",
       " 'Baadal_Track',\n",
       " 'Playa_Super_Raceway',\n",
       " 'Yun_Speedway',\n",
       " 'Circuit_de_Barcelona-Catalunya',\n",
       " 'Rogue_Circuit',\n",
       " 'Fumiaki_Loop',\n",
       " 'Empire_City_Training',\n",
       " 'Vivalas_Speedway',\n",
       " 'DBro_Raceway',\n",
       " 're-Invent_2018_Wide',\n",
       " 'Jochem_Turnpike',\n",
       " 'Lars_Circuit',\n",
       " 'The_2019_DeepRacer_Championship_Cup',\n",
       " 'Shanghai_Sudu_Training']"
      ]
     },
     "execution_count": 2,
     "metadata": {},
     "output_type": "execute_result"
    }
   ],
   "source": [
    "# Conveniently list available tracks to analyze\n",
    "available_track_files = glob.glob(\"../tracks/*.npy\")\n",
    "available_track_names = list(map(lambda x: os.path.basename(x).split('.npy')[0], available_track_files))\n",
    "available_track_names"
   ]
  },
  {
   "cell_type": "code",
   "execution_count": 5,
   "metadata": {},
   "outputs": [
    {
     "ename": "ValueError",
     "evalue": "Input must be >= 1-d.",
     "output_type": "error",
     "traceback": [
      "\u001b[0;31m---------------------------------------------------------------------------\u001b[0m",
      "\u001b[0;31mValueError\u001b[0m                                Traceback (most recent call last)",
      "Cell \u001b[0;32mIn[5], line 14\u001b[0m\n\u001b[1;32m     12\u001b[0m l_inner_border \u001b[39m=\u001b[39m LineString(inner_border)\n\u001b[1;32m     13\u001b[0m l_outer_border \u001b[39m=\u001b[39m LineString(outer_border)\n\u001b[0;32m---> 14\u001b[0m road_poly \u001b[39m=\u001b[39m Polygon(np\u001b[39m.\u001b[39mvstack((l_outer_border, np\u001b[39m.\u001b[39;49mflipud(l_inner_border))))\n\u001b[1;32m     15\u001b[0m \u001b[39mprint\u001b[39m(\u001b[39m\"\u001b[39m\u001b[39mIs loop/ring? \u001b[39m\u001b[39m\"\u001b[39m, l_center_line\u001b[39m.\u001b[39mis_ring)\n\u001b[1;32m     16\u001b[0m road_poly\n",
      "File \u001b[0;32m<__array_function__ internals>:200\u001b[0m, in \u001b[0;36mflipud\u001b[0;34m(*args, **kwargs)\u001b[0m\n",
      "File \u001b[0;32m~/.local/lib/python3.10/site-packages/numpy/lib/twodim_base.py:154\u001b[0m, in \u001b[0;36mflipud\u001b[0;34m(m)\u001b[0m\n\u001b[1;32m    152\u001b[0m m \u001b[39m=\u001b[39m asanyarray(m)\n\u001b[1;32m    153\u001b[0m \u001b[39mif\u001b[39;00m m\u001b[39m.\u001b[39mndim \u001b[39m<\u001b[39m \u001b[39m1\u001b[39m:\n\u001b[0;32m--> 154\u001b[0m     \u001b[39mraise\u001b[39;00m \u001b[39mValueError\u001b[39;00m(\u001b[39m\"\u001b[39m\u001b[39mInput must be >= 1-d.\u001b[39m\u001b[39m\"\u001b[39m)\n\u001b[1;32m    155\u001b[0m \u001b[39mreturn\u001b[39;00m m[::\u001b[39m-\u001b[39m\u001b[39m1\u001b[39m, \u001b[39m.\u001b[39m\u001b[39m.\u001b[39m\u001b[39m.\u001b[39m]\n",
      "\u001b[0;31mValueError\u001b[0m: Input must be >= 1-d."
     ]
    }
   ],
   "source": [
    "# Replace the name here with the track to analyze\n",
    "TRACK_NAME = 'Baja_Turnpike'\n",
    "\n",
    "# Load the center, inner, outer waypoints\n",
    "waypoints = np.load(\"../tracks/%s.npy\" % TRACK_NAME)\n",
    "\n",
    "# Convert to Shapely objects\n",
    "center_line = waypoints[:,0:2]\n",
    "inner_border = waypoints[:,2:4]\n",
    "outer_border = waypoints[:,4:6]\n",
    "l_center_line = LineString(center_line)\n",
    "l_inner_border = LineString(inner_border)\n",
    "l_outer_border = LineString(outer_border)\n",
    "road_poly = Polygon(np.vstack((l_outer_border, np.flipud(l_inner_border))))\n",
    "print(\"Is loop/ring? \", l_center_line.is_ring)\n",
    "road_poly"
   ]
  },
  {
   "cell_type": "code",
   "execution_count": null,
   "metadata": {},
   "outputs": [],
   "source": [
    "# Own code: Reduce width of track\n",
    "\n",
    "def dist_2_points(x1, x2, y1, y2):\n",
    "        return abs(abs(x1-x2)**2 + abs(y1-y2)**2)**0.5\n",
    "    \n",
    "def x_perc_width(waypoint, perc_width):\n",
    "    \n",
    "    center_x, center_y, inner_x, inner_y, outer_x, outer_y = waypoint\n",
    "    \n",
    "    width = dist_2_points(inner_x, outer_x, inner_y, outer_y)\n",
    "    \n",
    "    delta_x = outer_x-inner_x\n",
    "    delta_y = outer_y-inner_y\n",
    "    \n",
    "    inner_x_new = inner_x + delta_x/2 * (1-perc_width)\n",
    "    outer_x_new = outer_x - delta_x/2 * (1-perc_width)\n",
    "    inner_y_new = inner_y + delta_y/2 * (1-perc_width)\n",
    "    outer_y_new = outer_y - delta_y/2 * (1-perc_width)\n",
    "    \n",
    "    return [center_x, center_y, inner_x_new, inner_y_new, outer_x_new, outer_y_new]\n",
    "\n",
    "PERC_WIDTH = 0.8\n",
    "waypoints_new = [x_perc_width(waypoint, perc_width=PERC_WIDTH) for waypoint in waypoints]\n",
    "waypoints_new = np.asarray(waypoints_new)\n",
    "\n",
    "# Convert to Shapely objects\n",
    "inner_border_new = waypoints_new[:,2:4]\n",
    "outer_border_new = waypoints_new[:,4:6]\n",
    "l_inner_border_new = LineString(inner_border_new)\n",
    "l_outer_border_new = LineString(outer_border_new)\n",
    "road_poly_new = Polygon(np.vstack((l_outer_border_new, np.flipud(l_inner_border_new))))\n",
    "print(\"Is loop/ring? \", l_center_line.is_ring)\n",
    "road_poly_new"
   ]
  },
  {
   "attachments": {},
   "cell_type": "markdown",
   "metadata": {},
   "source": [
    "# Display the original track waypoints"
   ]
  },
  {
   "cell_type": "code",
   "execution_count": null,
   "metadata": {
    "scrolled": false
   },
   "outputs": [],
   "source": [
    "def plot_coords(ax, ob):                                                        \n",
    "    x, y = ob.xy                                                                \n",
    "    ax.plot(x, y, '.', color='#999999', zorder=1)                               \n",
    "                                                                                \n",
    "def plot_bounds(ax, ob):                                                        \n",
    "    x, y = zip(*list((p.x, p.y) for p in ob.boundary))                          \n",
    "    ax.plot(x, y, '.', color='#000000', zorder=1)                               \n",
    "                                                                                \n",
    "def plot_line(ax, ob):                                                          \n",
    "    x, y = ob.xy                                                                \n",
    "    ax.plot(x, y, color='cyan', alpha=0.7, linewidth=3, solid_capstyle='round', zorder=2)\n",
    "                                                                                \n",
    "def print_border(ax, waypoints, inner_border_waypoints, outer_border_waypoints):\n",
    "    line = LineString(waypoints)                                                \n",
    "    plot_coords(ax, line)                                                       \n",
    "    plot_line(ax, line)                                                         \n",
    "                                                                                \n",
    "    line = LineString(inner_border_waypoints)                                   \n",
    "    plot_coords(ax, line)                                                       \n",
    "    plot_line(ax, line)                                                         \n",
    "                                                                                \n",
    "    line = LineString(outer_border_waypoints)                                   \n",
    "    plot_coords(ax, line)                                                       \n",
    "    plot_line(ax, line)     \n",
    "\n",
    "fig = plt.figure(1, figsize=(16, 10))\n",
    "ax = fig.add_subplot(111, facecolor='black')\n",
    "plt.axis('equal')\n",
    "print_border(ax, center_line, inner_border, outer_border)\n",
    "\n",
    "# Also print new border\n",
    "print_border(ax, center_line, inner_border_new, outer_border_new)\n"
   ]
  },
  {
   "cell_type": "code",
   "execution_count": null,
   "metadata": {},
   "outputs": [],
   "source": [
    "# From https://github.com/e-koch/ewky_scripts/blob/master/curvature.py\n",
    "\n",
    "# The MIT License (MIT)\n",
    "#\n",
    "# Copyright (c) 2014 Eric Koch\n",
    "#\n",
    "# Permission is hereby granted, free of charge, to any person obtaining a copy\n",
    "# of this software and associated documentation files (the \"Software\"), to deal\n",
    "# in the Software without restriction, including without limitation the rights\n",
    "# to use, copy, modify, merge, publish, distribute, sublicense, and/or sell\n",
    "# copies of the Software, and to permit persons to whom the Software is\n",
    "# furnished to do so, subject to the following conditions:\n",
    "\n",
    "# The above copyright notice and this permission notice shall be included in all\n",
    "# copies or substantial portions of the Software.\n",
    "\n",
    "# THE SOFTWARE IS PROVIDED \"AS IS\", WITHOUT WARRANTY OF ANY KIND, EXPRESS OR\n",
    "# IMPLIED, INCLUDING BUT NOT LIMITED TO THE WARRANTIES OF MERCHANTABILITY,\n",
    "# FITNESS FOR A PARTICULAR PURPOSE AND NONINFRINGEMENT. IN NO EVENT SHALL THE\n",
    "# AUTHORS OR COPYRIGHT HOLDERS BE LIABLE FOR ANY CLAIM, DAMAGES OR OTHER\n",
    "# LIABILITY, WHETHER IN AN ACTION OF CONTRACT, TORT OR OTHERWISE, ARISING FROM,\n",
    "# OUT OF OR IN CONNECTION WITH THE SOFTWARE OR THE USE OR OTHER DEALINGS IN THE\n",
    "# SOFTWARE.\n",
    "\n",
    "def menger_curvature(pt1, pt2, pt3, atol=1e-3):\n",
    "\n",
    "    vec21 = np.array([pt1[0]-pt2[0], pt1[1]-pt2[1]])\n",
    "    vec23 = np.array([pt3[0]-pt2[0], pt3[1]-pt2[1]])\n",
    "\n",
    "    norm21 = np.linalg.norm(vec21)\n",
    "    norm23 = np.linalg.norm(vec23)\n",
    "\n",
    "    theta = np.arccos(np.dot(vec21, vec23)/(norm21*norm23))\n",
    "    if np.isclose(theta-np.pi, 0.0, atol=atol):\n",
    "        theta = 0.0\n",
    "\n",
    "    dist13 = np.linalg.norm(vec21-vec23)\n",
    "\n",
    "    return 2*np.sin(theta) / dist13"
   ]
  },
  {
   "cell_type": "code",
   "execution_count": null,
   "metadata": {
    "scrolled": true
   },
   "outputs": [],
   "source": [
    "import copy\n",
    "from shapely.geometry import Point, Polygon\n",
    "from shapely.geometry.polygon import LinearRing, LineString\n",
    "\n",
    "# Number of times to iterate each new race line point\n",
    "# keep this at 3-8 for best balance of performance and desired result\n",
    "XI_ITERATIONS=8 # default 4\n",
    "\n",
    "# Number of times to scan the entire race track to iterate\n",
    "# 500 will get a good start, 1500 will be closer to optimal result\n",
    "LINE_ITERATIONS=10 # default 1000\n",
    "\n",
    "def improve_race_line(old_line, inner_border, outer_border):\n",
    "    '''Use gradient descent, inspired by K1999, to find the racing line'''\n",
    "    # start with the center line\n",
    "    new_line = copy.deepcopy(old_line)\n",
    "    ls_inner_border = Polygon(inner_border)\n",
    "    ls_outer_border = Polygon(outer_border)\n",
    "    for i in range(0,len(new_line)):\n",
    "        xi = new_line[i]\n",
    "        npoints = len(new_line)\n",
    "        prevprev = (i - 2 + npoints) % npoints\n",
    "        prev = (i - 1 + npoints) % npoints\n",
    "        nexxt = (i + 1 + npoints) % npoints\n",
    "        nexxtnexxt = (i + 2 + npoints) % npoints\n",
    "        #print(\"%d: %d %d %d %d %d\" % (npoints, prevprev, prev, i, nexxt, nexxtnexxt))\n",
    "        ci = menger_curvature(new_line[prev], xi, new_line[nexxt])\n",
    "        c1 = menger_curvature(new_line[prevprev], new_line[prev], xi)\n",
    "        c2 = menger_curvature(xi, new_line[nexxt], new_line[nexxtnexxt])\n",
    "        target_ci = (c1 + c2) / 2\n",
    "        #print(\"i %d ci %f target_ci %f c1 %f c2 %f\" % (i, ci, target_ci, c1, c2))\n",
    "\n",
    "        # Calculate prospective new track position, start at half-way (curvature zero)\n",
    "        xi_bound1 = copy.deepcopy(xi)\n",
    "        xi_bound2 = ((new_line[nexxt][0] + new_line[prev][0]) / 2.0, (new_line[nexxt][1] + new_line[prev][1]) / 2.0)\n",
    "        p_xi = copy.deepcopy(xi)\n",
    "        for j in range(0,XI_ITERATIONS):\n",
    "            p_ci = menger_curvature(new_line[prev], p_xi, new_line[nexxt])\n",
    "            #print(\"i: {} iter {} p_ci {} p_xi {} b1 {} b2 {}\".format(i,j,p_ci,p_xi,xi_bound1, xi_bound2))\n",
    "            if np.isclose(p_ci, target_ci):\n",
    "                break\n",
    "            if p_ci < target_ci:\n",
    "                # too flat, shrinking track too much\n",
    "                xi_bound2 = copy.deepcopy(p_xi)\n",
    "                new_p_xi = ((xi_bound1[0] + p_xi[0]) / 2.0, (xi_bound1[1] + p_xi[1]) / 2.0)\n",
    "                if Point(new_p_xi).within(ls_inner_border) or not Point(new_p_xi).within(ls_outer_border):\n",
    "                    xi_bound1 = copy.deepcopy(new_p_xi)\n",
    "                else:\n",
    "                    p_xi = new_p_xi\n",
    "            else:\n",
    "                # too curved, flatten it out\n",
    "                xi_bound1 = copy.deepcopy(p_xi)\n",
    "                new_p_xi = ((xi_bound2[0] + p_xi[0]) / 2.0, (xi_bound2[1] + p_xi[1]) / 2.0)\n",
    "\n",
    "                # If iteration pushes the point beyond the border of the track,\n",
    "                # just abandon the refinement at this point.  As adjacent\n",
    "                # points are adjusted within the track the point should gradually\n",
    "                # make its way to a new position.  A better way would be to use\n",
    "                # a projection of the point on the border as the new bound.  Later.\n",
    "                if Point(new_p_xi).within(ls_inner_border) or not Point(new_p_xi).within(ls_outer_border):\n",
    "                    xi_bound2 = copy.deepcopy(new_p_xi)\n",
    "                else:\n",
    "                    p_xi = new_p_xi\n",
    "        new_xi = p_xi\n",
    "        # New point which has mid-curvature of prev and next points but may be outside of track\n",
    "        #print((new_line[i], new_xi))\n",
    "        new_line[i] = new_xi\n",
    "    return new_line"
   ]
  },
  {
   "attachments": {},
   "cell_type": "markdown",
   "metadata": {},
   "source": [
    "## Calculate the race line!"
   ]
  },
  {
   "cell_type": "code",
   "execution_count": null,
   "metadata": {},
   "outputs": [],
   "source": [
    "print(len(center_line))\n",
    "# start along centerline of track\n",
    "race_line = copy.deepcopy(center_line[:-1])  # Use this for centerline being outer bound\n",
    "for i in range(LINE_ITERATIONS):\n",
    "    race_line = improve_race_line(race_line, inner_border_new, outer_border_new)  # Remove \"_new\" for entire track width\n",
    "    if i % 20 == 0: print(\"Iteration %d\" % i, end=\"\\r\", flush=True)"
   ]
  },
  {
   "cell_type": "code",
   "execution_count": null,
   "metadata": {
    "scrolled": false
   },
   "outputs": [],
   "source": [
    "# need to put duplicate point race_line[0] at race_line[-1] to make a closed loops\n",
    "loop_race_line = np.append(race_line, [race_line[0]], axis=0)\n",
    "\n",
    "# These should be the same\n",
    "print(\"These should be the same: \", (center_line.shape, loop_race_line.shape))\n",
    "print(\"Original centerline length: %0.2f\" % l_center_line.length)\n",
    "print(\"New race line length: %0.2f\" % LineString(loop_race_line).length)\n",
    "\n",
    "fig = plt.figure(1, figsize=(16, 10))\n",
    "ax = fig.add_subplot(111, facecolor='black')\n",
    "plt.axis('equal')\n",
    "print_border(ax, loop_race_line, inner_border, outer_border)\n",
    "\n",
    "# Also print new border\n",
    "#print_border(ax, loop_race_line, inner_border_new, outer_border_new)"
   ]
  },
  {
   "attachments": {},
   "cell_type": "markdown",
   "metadata": {},
   "source": [
    "## Save the raceline as:\n",
    "\n",
    "1. Binary numpy array for loading from a file\n",
    "2. Text numpy array for pasting directly into a reward function"
   ]
  },
  {
   "cell_type": "code",
   "execution_count": null,
   "metadata": {},
   "outputs": [],
   "source": [
    "from datetime import datetime\n",
    "\n",
    "now = datetime.now()\n",
    "prefix = './racelines/%s-%d-%d-%s' % (TRACK_NAME, LINE_ITERATIONS, XI_ITERATIONS, now.strftime('%Y-%m-%d-%H%M%S'))\n",
    "py_fname = prefix + '.py'\n",
    "npy_fname = prefix + '.npy'\n",
    "with open(py_fname, \"w\") as file:\n",
    "    print(\"Writing python code to %s\" % py_fname)\n",
    "    file.write(np.array_repr(loop_race_line))\n",
    "    \n",
    "print(\"Writing numpy binary to %s\" % npy_fname)\n",
    "np.save(npy_fname, loop_race_line)"
   ]
  },
  {
   "attachments": {},
   "cell_type": "markdown",
   "metadata": {},
   "source": [
    "# Load and visualize a stored track file"
   ]
  },
  {
   "cell_type": "code",
   "execution_count": null,
   "metadata": {
    "scrolled": false
   },
   "outputs": [],
   "source": [
    "from numpy import array\n",
    "\n",
    "fname = './racelines/ChampionshipCup2019_track-15000-8-2020-05-19-140701.py'\n",
    "with open(fname, \"r\") as file:\n",
    "    deserialized = eval(file.read())\n",
    "deserialized\n",
    "fig = plt.figure(1, figsize=(16, 10))\n",
    "ax = fig.add_subplot(111, facecolor='black')\n",
    "plt.axis('equal')\n",
    "print_border(ax, deserialized, inner_border, outer_border)"
   ]
  }
 ],
 "metadata": {
  "kernelspec": {
   "display_name": "Python 3",
   "language": "python",
   "name": "python3"
  },
  "language_info": {
   "codemirror_mode": {
    "name": "ipython",
    "version": 3
   },
   "file_extension": ".py",
   "mimetype": "text/x-python",
   "name": "python",
   "nbconvert_exporter": "python",
   "pygments_lexer": "ipython3",
   "version": "3.10.4"
  }
 },
 "nbformat": 4,
 "nbformat_minor": 2
}
